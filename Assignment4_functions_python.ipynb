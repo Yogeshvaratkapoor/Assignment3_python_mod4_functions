{
  "nbformat": 4,
  "nbformat_minor": 0,
  "metadata": {
    "colab": {
      "provenance": []
    },
    "kernelspec": {
      "name": "python3",
      "display_name": "Python 3"
    },
    "language_info": {
      "name": "python"
    }
  },
  "cells": [
    {
      "cell_type": "markdown",
      "source": [
        "#Theory Questions"
      ],
      "metadata": {
        "id": "NtZUJPnLi5MX"
      }
    },
    {
      "cell_type": "markdown",
      "source": [
        "####Question 1.What is the difference between a function and a method in Python?\n",
        "\n",
        "Ans.- In Python, a function is a block of reusable code defined using def, independent of any object. A method is a function associated with an object and defined within a class. Methods access or modify the object's data, while functions do not rely on object context unless explicitly passed."
      ],
      "metadata": {
        "id": "NkREJoDWi_gw"
      }
    },
    {
      "cell_type": "markdown",
      "source": [
        "####Question2. Explain the concept of function arguments and parameters in Python.\n",
        "- In Python, parameters are the variable names listed in a function’s definition, while arguments are the actual values passed to the function when called. Parameters define what inputs a function expects; arguments provide those inputs. Functions can have required, default, keyword, and variable-length arguments for flexible usage."
      ],
      "metadata": {
        "id": "8g4qIsaojlsp"
      }
    },
    {
      "cell_type": "markdown",
      "source": [
        "#### Question 3.What are the different ways to define and call a function in Python?\n",
        "- In Python, functions are defined using def or lambda. You can call functions by name with parentheses, passing required or optional arguments. Use positional, keyword, or variable-length arguments (*args, **kwargs). Methods are called on objects. Recursive and nested functions are also valid forms of definition and invocation."
      ],
      "metadata": {
        "id": "IoUUFFRPj9qr"
      }
    },
    {
      "cell_type": "markdown",
      "source": [
        "#### Question4.. What is the purpose of the `return` statement in a Python function?\n",
        "- The return statement in a Python function is used to send a value back to the caller. It ends the function’s execution and passes the specified result. This allows functions to produce outputs that can be stored in variables, used in expressions, or passed to other functions for further processing."
      ],
      "metadata": {
        "id": "djfm2rRRkTuX"
      }
    },
    {
      "cell_type": "markdown",
      "source": [
        "####Question 5.  What are iterators in Python and how do they differ from iterables?\n",
        "- In Python, iterables are objects like lists, tuples, and strings that can be looped over. An iterator is an object that represents a stream of data; it implements the __iter__() and __next__() methods.\n",
        "\n",
        "The key difference:\n",
        "\n",
        "Iterable: Can be passed to iter() to get an iterator.\n",
        "\n",
        "Iterator: Generates items one at a time using next(), and remembers its state.\n",
        "\n",
        "Once exhausted, iterators can’t be reused unless re-created. Iterables can be looped over multiple times."
      ],
      "metadata": {
        "id": "bUrOOik_kdnx"
      }
    },
    {
      "cell_type": "markdown",
      "source": [
        "#### Question6. Explain the concept of generators in Python and how they are defined.\n",
        "Generators in Python are special functions that return an iterator using the yield keyword instead of return. They produce values one at a time, pausing between each, which saves memory. Defined like normal functions, generators are ideal for large data processing, as they generate values lazily when iterated."
      ],
      "metadata": {
        "id": "rZwH2nWDknwB"
      }
    },
    {
      "cell_type": "markdown",
      "source": [
        "#### Question 7. What are the advantages of using generators over regular functions?\n",
        "Generators save memory by yielding values one at a time, unlike regular functions that return all values at once. They support lazy evaluation, making them ideal for large datasets or infinite sequences. Generators also improve performance and reduce overhead, as they maintain state between calls without storing all data."
      ],
      "metadata": {
        "id": "uJbLt48YlDV9"
      }
    },
    {
      "cell_type": "markdown",
      "source": [
        "#### Question 8. What is a lambda function in Python and when is it typically used?\n",
        "A lambda function in Python is an anonymous, single-expression function defined using the lambda keyword. It returns the result of the expression automatically. Lambda functions are typically used for short, simple operations, especially as arguments in functions like map(), filter(), and sorted(), where defining a full function is unnecessary."
      ],
      "metadata": {
        "id": "WVR8wLl2lOp0"
      }
    },
    {
      "cell_type": "markdown",
      "source": [
        "#### 9. Explain the purpose and usage of the `map()` function in Python.\n",
        "The map() function in Python applies a given function to all items in an iterable (like a list) and returns an iterator with the results. It is commonly used for transforming or processing data without needing explicit loops. Syntax: map(function, iterable). It can also accept multiple iterables."
      ],
      "metadata": {
        "id": "jtBtChzRlX4n"
      }
    },
    {
      "cell_type": "markdown",
      "source": [
        "#### Question 10.What is the difference between map(), reduce(), and filter() functions in Python?\n",
        "\n",
        "\n",
        "map(): Applies a function to all items in an iterable and returns an iterator of the results. It's used for transforming data.\n",
        "\n",
        "filter(): Applies a function that returns True or False to filter elements from an iterable, returning only those that satisfy the condition.\n",
        "\n",
        "reduce(): Accumulates the results of applying a function to items in an iterable, reducing it to a single value, commonly used for cumulative operations like summing or multiplying values."
      ],
      "metadata": {
        "id": "S9xQ-x12mjji"
      }
    },
    {
      "cell_type": "markdown",
      "source": [
        "#### Question 11. Using pen & Paper write the internal mechanism for sum operation using  reduce function on this given\n",
        "list:[47,11,42,13]\n",
        "- To calculate the sum of [47, 11, 42, 13] using reduce():\n",
        "\n",
        "reduce() starts with the first two elements: 47 and 11, applying the sum operation: 47 + 11 = 58.\n",
        "\n",
        "Next, it applies the sum on 58 and 42: 58 + 42 = 100.\n",
        "\n",
        "Finally, 100 + 13 = 113.\n",
        "\n",
        "Result: 113."
      ],
      "metadata": {
        "id": "Ms5KH-3hmtGk"
      }
    },
    {
      "cell_type": "markdown",
      "source": [
        "# Practical Question"
      ],
      "metadata": {
        "id": "6kGNWEDPm-fU"
      }
    },
    {
      "cell_type": "code",
      "source": [
        "#1. Write a Python function that takes a list of numbers as input and returns the sum of all even numbers in\n",
        "# the list.\n",
        "\n",
        "def sum_even_numbers(numbers):\n",
        "  \"\"\"\n",
        "  This function takes a list of numbers and returns the sum of all even numbers in the list.\n",
        "\n",
        "  Args:\n",
        "    numbers: A list of numbers.\n",
        "\n",
        "  Returns:\n",
        "    The sum of all even numbers in the list.\n",
        "  \"\"\"\n",
        "  sum_of_evens = 0\n",
        "  for number in numbers:\n",
        "    if number % 2 == 0:\n",
        "      sum_of_evens += number\n",
        "  return sum_of_evens"
      ],
      "metadata": {
        "id": "ntebTvVDoMvl"
      },
      "execution_count": null,
      "outputs": []
    },
    {
      "cell_type": "code",
      "source": [
        "#2. Create a Python function that accepts a string and returns the reverse of that string.\n",
        "\n",
        "def reverse_string(input_string):\n",
        "  \"\"\"\n",
        "  Reverses a given string.\n",
        "\n",
        "  Args:\n",
        "    input_string: The string to be reversed.\n",
        "\n",
        "  Returns:\n",
        "    The reversed string.\n",
        "  \"\"\"\n",
        "  return input_string[::-1]\n"
      ],
      "metadata": {
        "id": "anQsslMpnUZb"
      },
      "execution_count": null,
      "outputs": []
    },
    {
      "cell_type": "code",
      "source": [
        "#3. Implement a Python function that takes a list of integers and returns a new list containing the squares of\n",
        "# each number.\n",
        "\n",
        "def square_numbers(numbers):\n",
        "    \"\"\"\n",
        "    Takes a list of integers and returns a new list containing the squares of each number.\n",
        "\n",
        "    Args:\n",
        "        numbers: A list of integers.\n",
        "\n",
        "    Returns:\n",
        "        A new list with the squares of the input numbers.\n",
        "    \"\"\"\n",
        "    squared_numbers = []\n",
        "    for number in numbers:\n",
        "        squared_numbers.append(number**2)\n",
        "    return squared_numbers\n"
      ],
      "metadata": {
        "id": "Jm8fKEtvniRh"
      },
      "execution_count": null,
      "outputs": []
    },
    {
      "cell_type": "code",
      "source": [
        "#4. Write a Python function that checks if a given number is prime or not from 1 to 200\n",
        "\n",
        "def is_prime(num):\n",
        "    \"\"\"\n",
        "    Checks if a number is prime.\n",
        "\n",
        "    Args:\n",
        "        num: The number to check.\n",
        "\n",
        "    Returns:\n",
        "        True if the number is prime, False otherwise.\n",
        "    \"\"\"\n",
        "    if num <= 1:\n",
        "        return False\n",
        "    for i in range(2, int(num**0.5) + 1):\n",
        "        if num % i == 0:\n",
        "            return False\n",
        "    return True\n",
        "\n",
        "\n",
        "def identify_non_primes(limit=200):\n",
        "    \"\"\"\n",
        "    Identifies and prints non-prime numbers from 1 to a given limit.\n",
        "\n",
        "    Args:\n",
        "        limit: The upper limit for checking prime numbers (default is 200).\n",
        "    \"\"\"\n",
        "    non_primes = []\n",
        "    for num in range(1, limit + 1):\n",
        "        if not is_prime(num):\n",
        "            non_primes.append(num)\n",
        "    return non_primes"
      ],
      "metadata": {
        "id": "d4KgOMz6oT-u"
      },
      "execution_count": null,
      "outputs": []
    },
    {
      "cell_type": "code",
      "source": [
        "# Create an iterator class in Python that generates the Fibonacci sequence up to a specified number of\n",
        "# terms.\n",
        "\n",
        "class FibonacciIterator:\n",
        "    def __init__(self, max_terms):\n",
        "        self.max_terms = max_terms\n",
        "        self.a = 0\n",
        "        self.b = 1\n",
        "        self.count = 0\n",
        "\n",
        "    def __iter__(self):\n",
        "        return self\n",
        "\n",
        "    def __next__(self):\n",
        "        if self.count >= self.max_terms:\n",
        "            raise StopIteration\n",
        "\n",
        "        if self.count == 0:\n",
        "            self.count += 1\n",
        "            return self.a\n",
        "        elif self.count == 1:\n",
        "            self.count += 1\n",
        "            return self.b\n",
        "        else:\n",
        "            self.a, self.b = self.b, self.a + self.b\n",
        "            self.count += 1\n",
        "            return self.b\n"
      ],
      "metadata": {
        "id": "WNBJMb_3qhVR"
      },
      "execution_count": null,
      "outputs": []
    },
    {
      "cell_type": "code",
      "source": [
        "# Write a generator function in Python that yields the powers of 2 up to a given exponent.\n",
        "\n",
        "def powers_of_2(exponent):\n",
        "  \"\"\"\n",
        "  Generates powers of 2 up to a given exponent.\n",
        "\n",
        "  Args:\n",
        "    exponent: The maximum exponent.\n",
        "\n",
        "  Yields:\n",
        "    Powers of 2 up to 2^exponent.\n",
        "  \"\"\"\n",
        "  for i in range(exponent + 1):\n",
        "    yield 2**i\n"
      ],
      "metadata": {
        "id": "t6c5NFJQqpgJ"
      },
      "execution_count": null,
      "outputs": []
    },
    {
      "cell_type": "code",
      "source": [
        "#Implement a generator function that reads a file line by line and yields each line as a string\n",
        "\n",
        "def read_file_line_by_line(file_path):\n",
        "    \"\"\"\n",
        "    Reads a file line by line and yields each line as a string.\n",
        "\n",
        "    Args:\n",
        "        file_path: The path to the file.\n",
        "\n",
        "    Yields:\n",
        "        Each line in the file as a string.\n",
        "    \"\"\"\n",
        "    try:\n",
        "        with open(file_path, 'r') as file:\n",
        "            for line in file:\n",
        "                yield line.strip()  # Remove leading/trailing whitespace\n",
        "    except FileNotFoundError:\n",
        "        print(f\"Error: File not found at '{file_path}'\")\n",
        "        yield None # Yield None to signal an error\n",
        "\n",
        "\n",
        "# Example usage (assuming the content is in a file named 'input.txt'):\n",
        "\n",
        "# Create dummy file for demonstration\n",
        "with open('input.txt', 'w') as f:\n",
        "  f.write(\"\"\"# #Theory Questions\n",
        "# ####Question 1.What is the difference between a function and a method in Python?\n",
        "#\n",
        "# Ans.- In Python, a function is a block of reusable code defined using def, independent of any object. A method is a function associated with an object and defined within a class. Methods access or modify the object's data, while functions do not rely on object context unless explicitly passed.\"\"\")\n",
        "\n",
        "file_generator = read_file_line_by_line('input.txt')\n",
        "\n",
        "for line in file_generator:\n",
        "    if line is not None: #check if error occurred\n",
        "line\n"
      ],
      "metadata": {
        "id": "OClDWukJqwHm"
      },
      "execution_count": null,
      "outputs": []
    },
    {
      "cell_type": "code",
      "source": [
        "# Use a lambda function in Python to sort a list of tuples based on the second element of each tuple\n",
        "\n",
        "data = [(1, 5), (3, 2), (2, 8), (4, 1)]\n",
        "sorted_data = sorted(data, key=lambda x: x[1])\n",
        "sorted_data\n"
      ],
      "metadata": {
        "id": "n1n73pTYq5V9"
      },
      "execution_count": null,
      "outputs": []
    },
    {
      "cell_type": "code",
      "source": [
        "#  Write a Python program that uses `map()` to convert a list of temperatures from Celsius to Fahrenheit\n",
        "\n",
        "def celsius_to_fahrenheit(celsius):\n",
        "  \"\"\"Converts Celsius to Fahrenheit.\"\"\"\n",
        "  return (celsius * 9/5) + 32\n",
        "\n",
        "celsius_temps = [0, 10, 20, 30, 40]\n",
        "fahrenheit_temps = list(map(celsius_to_fahrenheit, celsius_temps))\n",
        "fahrenheit_temps\n"
      ],
      "metadata": {
        "id": "LZ9kuyzVrBqk"
      },
      "execution_count": null,
      "outputs": []
    },
    {
      "cell_type": "code",
      "source": [
        "#  Create a Python program that uses `filter()` to remove all the vowels from a given string\n",
        "\n",
        "def remove_vowels(input_string):\n",
        "  vowels = \"aeiouAEIOU\"\n",
        "  return \"\".join(filter(lambda char: char not in vowels, input_string))\n"
      ],
      "metadata": {
        "id": "BpJvK0IxrSEj"
      },
      "execution_count": null,
      "outputs": []
    },
    {
      "cell_type": "code",
      "source": [
        "#  Imagine an accounting routine used in a book shop. It works on a list with sublists, which look like this:\n",
        "# Write a Python program, which returns a list with 2-tuples. Each tuple consists of the order number and the\n",
        "# product of the price per item and the quantity. The product should be increased by 10,- € if the value of the\n",
        "# order is smaller than 100,00 €.\n",
        "# Write a Python program using lambda and map.\n",
        "\n",
        "from functools import reduce\n",
        "\n",
        "def accounting_routine(order_list):\n",
        "    \"\"\"\n",
        "    Calculates order totals with a surcharge for small orders.\n",
        "\n",
        "    Args:\n",
        "        order_list: A list of lists, where each sublist represents an order\n",
        "                   and contains [order_number, price_per_item, quantity].\n",
        "\n",
        "    Returns:\n",
        "         A list of 2-tuples: (order_number, total_value).\n",
        "    \"\"\"\n",
        "    return list(map(lambda order: (order[0], order[1] * order[2] + (10 if order[1] * order[2] < 100 else 0)), order_list))\n",
        "\n",
        "# Example usage\n",
        "orders = [[1, 10, 5], [2, 20, 2], [3, 5, 15], [4, 80, 1]]\n",
        "result = accounting_routine(orders)\n",
        "result\n"
      ],
      "metadata": {
        "id": "XtcecpoTrSB7"
      },
      "execution_count": null,
      "outputs": []
    }
  ]
}